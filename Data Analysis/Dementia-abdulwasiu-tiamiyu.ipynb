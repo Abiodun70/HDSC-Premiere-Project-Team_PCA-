{
 "cells": [
  {
   "cell_type": "markdown",
   "id": "44a19d85",
   "metadata": {
    "papermill": {
     "duration": 0.037487,
     "end_time": "2022-02-16T23:09:30.108625",
     "exception": false,
     "start_time": "2022-02-16T23:09:30.071138",
     "status": "completed"
    },
    "tags": []
   },
   "source": [
    "# Dementia Prediction Dataset\n",
    "\n",
    "\n",
    "## Classification & Prediction of Dementia"
   ]
  },
  {
   "cell_type": "code",
   "execution_count": 1,
   "id": "9183bf16",
   "metadata": {
    "_cell_guid": "b1076dfc-b9ad-4769-8c92-a6c4dae69d19",
    "_uuid": "8f2839f25d086af736a60e9eeb907d3b93b6e0e5",
    "execution": {
     "iopub.execute_input": "2022-02-16T23:09:30.189627Z",
     "iopub.status.busy": "2022-02-16T23:09:30.187807Z",
     "iopub.status.idle": "2022-02-16T23:09:31.302106Z",
     "shell.execute_reply": "2022-02-16T23:09:31.301154Z",
     "shell.execute_reply.started": "2022-02-16T21:15:55.854289Z"
    },
    "papermill": {
     "duration": 1.156733,
     "end_time": "2022-02-16T23:09:31.302300",
     "exception": false,
     "start_time": "2022-02-16T23:09:30.145567",
     "status": "completed"
    },
    "tags": []
   },
   "outputs": [],
   "source": [
    "#Importing necessary libraries\n",
    "import numpy as np\n",
    "import pandas as pd \n",
    "import matplotlib.pyplot as plt\n",
    "%matplotlib inline\n",
    "import seaborn as sns\n",
    "sns.set_style('whitegrid')\n",
    "\n",
    "import warnings\n",
    "warnings.filterwarnings(\"ignore\")"
   ]
  },
  {
   "cell_type": "code",
   "execution_count": null,
   "id": "1bef8573",
   "metadata": {
    "papermill": {
     "duration": 0.02939,
     "end_time": "2022-02-16T23:09:31.361895",
     "exception": false,
     "start_time": "2022-02-16T23:09:31.332505",
     "status": "completed"
    },
    "tags": []
   },
   "outputs": [],
   "source": []
  },
  {
   "cell_type": "code",
   "execution_count": 2,
   "id": "569055e0",
   "metadata": {
    "execution": {
     "iopub.execute_input": "2022-02-16T23:09:31.427788Z",
     "iopub.status.busy": "2022-02-16T23:09:31.427004Z",
     "iopub.status.idle": "2022-02-16T23:09:31.445622Z",
     "shell.execute_reply": "2022-02-16T23:09:31.446180Z",
     "shell.execute_reply.started": "2022-02-16T21:54:41.359770Z"
    },
    "papermill": {
     "duration": 0.054755,
     "end_time": "2022-02-16T23:09:31.446396",
     "exception": false,
     "start_time": "2022-02-16T23:09:31.391641",
     "status": "completed"
    },
    "tags": []
   },
   "outputs": [],
   "source": [
    "# Reading the dataset\n",
    "df = pd.read_csv('../input/dementia-prediction-dataset/dementia_dataset.csv')"
   ]
  },
  {
   "cell_type": "code",
   "execution_count": 3,
   "id": "ffffe6a9",
   "metadata": {
    "execution": {
     "iopub.execute_input": "2022-02-16T23:09:31.510541Z",
     "iopub.status.busy": "2022-02-16T23:09:31.509776Z",
     "iopub.status.idle": "2022-02-16T23:09:31.537241Z",
     "shell.execute_reply": "2022-02-16T23:09:31.537765Z",
     "shell.execute_reply.started": "2022-02-16T21:54:41.754093Z"
    },
    "papermill": {
     "duration": 0.061152,
     "end_time": "2022-02-16T23:09:31.537968",
     "exception": false,
     "start_time": "2022-02-16T23:09:31.476816",
     "status": "completed"
    },
    "tags": []
   },
   "outputs": [
    {
     "data": {
      "text/html": [
       "<div>\n",
       "<style scoped>\n",
       "    .dataframe tbody tr th:only-of-type {\n",
       "        vertical-align: middle;\n",
       "    }\n",
       "\n",
       "    .dataframe tbody tr th {\n",
       "        vertical-align: top;\n",
       "    }\n",
       "\n",
       "    .dataframe thead th {\n",
       "        text-align: right;\n",
       "    }\n",
       "</style>\n",
       "<table border=\"1\" class=\"dataframe\">\n",
       "  <thead>\n",
       "    <tr style=\"text-align: right;\">\n",
       "      <th></th>\n",
       "      <th>Subject ID</th>\n",
       "      <th>MRI ID</th>\n",
       "      <th>Group</th>\n",
       "      <th>Visit</th>\n",
       "      <th>MR Delay</th>\n",
       "      <th>M/F</th>\n",
       "      <th>Hand</th>\n",
       "      <th>Age</th>\n",
       "      <th>EDUC</th>\n",
       "      <th>SES</th>\n",
       "      <th>MMSE</th>\n",
       "      <th>CDR</th>\n",
       "      <th>eTIV</th>\n",
       "      <th>nWBV</th>\n",
       "      <th>ASF</th>\n",
       "    </tr>\n",
       "  </thead>\n",
       "  <tbody>\n",
       "    <tr>\n",
       "      <th>0</th>\n",
       "      <td>OAS2_0001</td>\n",
       "      <td>OAS2_0001_MR1</td>\n",
       "      <td>Nondemented</td>\n",
       "      <td>1</td>\n",
       "      <td>0</td>\n",
       "      <td>M</td>\n",
       "      <td>R</td>\n",
       "      <td>87</td>\n",
       "      <td>14</td>\n",
       "      <td>2.0</td>\n",
       "      <td>27.0</td>\n",
       "      <td>0.0</td>\n",
       "      <td>1987</td>\n",
       "      <td>0.696</td>\n",
       "      <td>0.883</td>\n",
       "    </tr>\n",
       "    <tr>\n",
       "      <th>1</th>\n",
       "      <td>OAS2_0001</td>\n",
       "      <td>OAS2_0001_MR2</td>\n",
       "      <td>Nondemented</td>\n",
       "      <td>2</td>\n",
       "      <td>457</td>\n",
       "      <td>M</td>\n",
       "      <td>R</td>\n",
       "      <td>88</td>\n",
       "      <td>14</td>\n",
       "      <td>2.0</td>\n",
       "      <td>30.0</td>\n",
       "      <td>0.0</td>\n",
       "      <td>2004</td>\n",
       "      <td>0.681</td>\n",
       "      <td>0.876</td>\n",
       "    </tr>\n",
       "    <tr>\n",
       "      <th>2</th>\n",
       "      <td>OAS2_0002</td>\n",
       "      <td>OAS2_0002_MR1</td>\n",
       "      <td>Demented</td>\n",
       "      <td>1</td>\n",
       "      <td>0</td>\n",
       "      <td>M</td>\n",
       "      <td>R</td>\n",
       "      <td>75</td>\n",
       "      <td>12</td>\n",
       "      <td>NaN</td>\n",
       "      <td>23.0</td>\n",
       "      <td>0.5</td>\n",
       "      <td>1678</td>\n",
       "      <td>0.736</td>\n",
       "      <td>1.046</td>\n",
       "    </tr>\n",
       "    <tr>\n",
       "      <th>3</th>\n",
       "      <td>OAS2_0002</td>\n",
       "      <td>OAS2_0002_MR2</td>\n",
       "      <td>Demented</td>\n",
       "      <td>2</td>\n",
       "      <td>560</td>\n",
       "      <td>M</td>\n",
       "      <td>R</td>\n",
       "      <td>76</td>\n",
       "      <td>12</td>\n",
       "      <td>NaN</td>\n",
       "      <td>28.0</td>\n",
       "      <td>0.5</td>\n",
       "      <td>1738</td>\n",
       "      <td>0.713</td>\n",
       "      <td>1.010</td>\n",
       "    </tr>\n",
       "    <tr>\n",
       "      <th>4</th>\n",
       "      <td>OAS2_0002</td>\n",
       "      <td>OAS2_0002_MR3</td>\n",
       "      <td>Demented</td>\n",
       "      <td>3</td>\n",
       "      <td>1895</td>\n",
       "      <td>M</td>\n",
       "      <td>R</td>\n",
       "      <td>80</td>\n",
       "      <td>12</td>\n",
       "      <td>NaN</td>\n",
       "      <td>22.0</td>\n",
       "      <td>0.5</td>\n",
       "      <td>1698</td>\n",
       "      <td>0.701</td>\n",
       "      <td>1.034</td>\n",
       "    </tr>\n",
       "  </tbody>\n",
       "</table>\n",
       "</div>"
      ],
      "text/plain": [
       "  Subject ID         MRI ID        Group  Visit  MR Delay M/F Hand  Age  EDUC  \\\n",
       "0  OAS2_0001  OAS2_0001_MR1  Nondemented      1         0   M    R   87    14   \n",
       "1  OAS2_0001  OAS2_0001_MR2  Nondemented      2       457   M    R   88    14   \n",
       "2  OAS2_0002  OAS2_0002_MR1     Demented      1         0   M    R   75    12   \n",
       "3  OAS2_0002  OAS2_0002_MR2     Demented      2       560   M    R   76    12   \n",
       "4  OAS2_0002  OAS2_0002_MR3     Demented      3      1895   M    R   80    12   \n",
       "\n",
       "   SES  MMSE  CDR  eTIV   nWBV    ASF  \n",
       "0  2.0  27.0  0.0  1987  0.696  0.883  \n",
       "1  2.0  30.0  0.0  2004  0.681  0.876  \n",
       "2  NaN  23.0  0.5  1678  0.736  1.046  \n",
       "3  NaN  28.0  0.5  1738  0.713  1.010  \n",
       "4  NaN  22.0  0.5  1698  0.701  1.034  "
      ]
     },
     "execution_count": 3,
     "metadata": {},
     "output_type": "execute_result"
    }
   ],
   "source": [
    "df.head() # First five rows"
   ]
  },
  {
   "cell_type": "markdown",
   "id": "2a74603a",
   "metadata": {
    "execution": {
     "iopub.execute_input": "2022-02-16T21:18:01.262683Z",
     "iopub.status.busy": "2022-02-16T21:18:01.262131Z",
     "iopub.status.idle": "2022-02-16T21:18:01.265984Z",
     "shell.execute_reply": "2022-02-16T21:18:01.265293Z",
     "shell.execute_reply.started": "2022-02-16T21:18:01.262644Z"
    },
    "papermill": {
     "duration": 0.030209,
     "end_time": "2022-02-16T23:09:31.598895",
     "exception": false,
     "start_time": "2022-02-16T23:09:31.568686",
     "status": "completed"
    },
    "tags": []
   },
   "source": [
    "## Exploratory Data Analysis"
   ]
  },
  {
   "cell_type": "code",
   "execution_count": 4,
   "id": "78750c38",
   "metadata": {
    "execution": {
     "iopub.execute_input": "2022-02-16T23:09:31.663693Z",
     "iopub.status.busy": "2022-02-16T23:09:31.662988Z",
     "iopub.status.idle": "2022-02-16T23:09:31.671034Z",
     "shell.execute_reply": "2022-02-16T23:09:31.671550Z",
     "shell.execute_reply.started": "2022-02-16T21:56:08.241941Z"
    },
    "papermill": {
     "duration": 0.042378,
     "end_time": "2022-02-16T23:09:31.671739",
     "exception": false,
     "start_time": "2022-02-16T23:09:31.629361",
     "status": "completed"
    },
    "tags": []
   },
   "outputs": [],
   "source": [
    "# Renaming the variables to something that convey meaning\n",
    "df.rename(columns={'M/F':'Gender','MR Delay':'MR_Delay', 'Hand':'Handedness', 'EDUC':'Years_of_Edu',\n",
    "         'SES':'Socioeconomic_Status', 'MMSE':'Mini_Mental_State_Exam',\n",
    "         'CDR':'Clinical_Dementia_Rating', 'eTIV':'Estimated_total_intracranial_volume',\n",
    "        'nWBV':'Normalized_whole_brain_volume', 'ASF':'Atlas_scaling_factor'}, \n",
    "      inplace=True)\n",
    "\n",
    "# https://www.kaggle.com/sid321axn/eda-for-predicting-dementia"
   ]
  },
  {
   "cell_type": "code",
   "execution_count": 5,
   "id": "97e68c35",
   "metadata": {
    "execution": {
     "iopub.execute_input": "2022-02-16T23:09:31.738173Z",
     "iopub.status.busy": "2022-02-16T23:09:31.737524Z",
     "iopub.status.idle": "2022-02-16T23:09:31.760255Z",
     "shell.execute_reply": "2022-02-16T23:09:31.760821Z",
     "shell.execute_reply.started": "2022-02-16T21:56:08.808099Z"
    },
    "papermill": {
     "duration": 0.05679,
     "end_time": "2022-02-16T23:09:31.761030",
     "exception": false,
     "start_time": "2022-02-16T23:09:31.704240",
     "status": "completed"
    },
    "tags": []
   },
   "outputs": [
    {
     "name": "stdout",
     "output_type": "stream",
     "text": [
      "<class 'pandas.core.frame.DataFrame'>\n",
      "RangeIndex: 373 entries, 0 to 372\n",
      "Data columns (total 15 columns):\n",
      " #   Column                               Non-Null Count  Dtype  \n",
      "---  ------                               --------------  -----  \n",
      " 0   Subject ID                           373 non-null    object \n",
      " 1   MRI ID                               373 non-null    object \n",
      " 2   Group                                373 non-null    object \n",
      " 3   Visit                                373 non-null    int64  \n",
      " 4   MR_Delay                             373 non-null    int64  \n",
      " 5   Gender                               373 non-null    object \n",
      " 6   Handedness                           373 non-null    object \n",
      " 7   Age                                  373 non-null    int64  \n",
      " 8   Years_of_Edu                         373 non-null    int64  \n",
      " 9   Socioeconomic_Status                 354 non-null    float64\n",
      " 10  Mini_Mental_State_Exam               371 non-null    float64\n",
      " 11  Clinical_Dementia_Rating             373 non-null    float64\n",
      " 12  Estimated_total_intracranial_volume  373 non-null    int64  \n",
      " 13  Normalized_whole_brain_volume        373 non-null    float64\n",
      " 14  Atlas_scaling_factor                 373 non-null    float64\n",
      "dtypes: float64(5), int64(5), object(5)\n",
      "memory usage: 43.8+ KB\n"
     ]
    }
   ],
   "source": [
    "df.info() # Information about the dataset"
   ]
  },
  {
   "cell_type": "markdown",
   "id": "73384b59",
   "metadata": {
    "papermill": {
     "duration": 0.030617,
     "end_time": "2022-02-16T23:09:31.822534",
     "exception": false,
     "start_time": "2022-02-16T23:09:31.791917",
     "status": "completed"
    },
    "tags": []
   },
   "source": [
    "There are 373 observations and 15 columns\n",
    "\n",
    "Two columns have missing values\n",
    "\n",
    "There are object, float and integer data types"
   ]
  },
  {
   "cell_type": "code",
   "execution_count": 6,
   "id": "df9cb906",
   "metadata": {
    "execution": {
     "iopub.execute_input": "2022-02-16T23:09:31.888226Z",
     "iopub.status.busy": "2022-02-16T23:09:31.887528Z",
     "iopub.status.idle": "2022-02-16T23:09:31.932527Z",
     "shell.execute_reply": "2022-02-16T23:09:31.931815Z",
     "shell.execute_reply.started": "2022-02-16T21:56:10.223031Z"
    },
    "papermill": {
     "duration": 0.078982,
     "end_time": "2022-02-16T23:09:31.932682",
     "exception": false,
     "start_time": "2022-02-16T23:09:31.853700",
     "status": "completed"
    },
    "tags": []
   },
   "outputs": [
    {
     "data": {
      "text/html": [
       "<div>\n",
       "<style scoped>\n",
       "    .dataframe tbody tr th:only-of-type {\n",
       "        vertical-align: middle;\n",
       "    }\n",
       "\n",
       "    .dataframe tbody tr th {\n",
       "        vertical-align: top;\n",
       "    }\n",
       "\n",
       "    .dataframe thead th {\n",
       "        text-align: right;\n",
       "    }\n",
       "</style>\n",
       "<table border=\"1\" class=\"dataframe\">\n",
       "  <thead>\n",
       "    <tr style=\"text-align: right;\">\n",
       "      <th></th>\n",
       "      <th>count</th>\n",
       "      <th>mean</th>\n",
       "      <th>std</th>\n",
       "      <th>min</th>\n",
       "      <th>25%</th>\n",
       "      <th>50%</th>\n",
       "      <th>75%</th>\n",
       "      <th>max</th>\n",
       "    </tr>\n",
       "  </thead>\n",
       "  <tbody>\n",
       "    <tr>\n",
       "      <th>Visit</th>\n",
       "      <td>373.0</td>\n",
       "      <td>1.882038</td>\n",
       "      <td>0.922843</td>\n",
       "      <td>1.000</td>\n",
       "      <td>1.000</td>\n",
       "      <td>2.000</td>\n",
       "      <td>2.000</td>\n",
       "      <td>5.000</td>\n",
       "    </tr>\n",
       "    <tr>\n",
       "      <th>MR_Delay</th>\n",
       "      <td>373.0</td>\n",
       "      <td>595.104558</td>\n",
       "      <td>635.485118</td>\n",
       "      <td>0.000</td>\n",
       "      <td>0.000</td>\n",
       "      <td>552.000</td>\n",
       "      <td>873.000</td>\n",
       "      <td>2639.000</td>\n",
       "    </tr>\n",
       "    <tr>\n",
       "      <th>Age</th>\n",
       "      <td>373.0</td>\n",
       "      <td>77.013405</td>\n",
       "      <td>7.640957</td>\n",
       "      <td>60.000</td>\n",
       "      <td>71.000</td>\n",
       "      <td>77.000</td>\n",
       "      <td>82.000</td>\n",
       "      <td>98.000</td>\n",
       "    </tr>\n",
       "    <tr>\n",
       "      <th>Years_of_Edu</th>\n",
       "      <td>373.0</td>\n",
       "      <td>14.597855</td>\n",
       "      <td>2.876339</td>\n",
       "      <td>6.000</td>\n",
       "      <td>12.000</td>\n",
       "      <td>15.000</td>\n",
       "      <td>16.000</td>\n",
       "      <td>23.000</td>\n",
       "    </tr>\n",
       "    <tr>\n",
       "      <th>Socioeconomic_Status</th>\n",
       "      <td>354.0</td>\n",
       "      <td>2.460452</td>\n",
       "      <td>1.134005</td>\n",
       "      <td>1.000</td>\n",
       "      <td>2.000</td>\n",
       "      <td>2.000</td>\n",
       "      <td>3.000</td>\n",
       "      <td>5.000</td>\n",
       "    </tr>\n",
       "    <tr>\n",
       "      <th>Mini_Mental_State_Exam</th>\n",
       "      <td>371.0</td>\n",
       "      <td>27.342318</td>\n",
       "      <td>3.683244</td>\n",
       "      <td>4.000</td>\n",
       "      <td>27.000</td>\n",
       "      <td>29.000</td>\n",
       "      <td>30.000</td>\n",
       "      <td>30.000</td>\n",
       "    </tr>\n",
       "    <tr>\n",
       "      <th>Clinical_Dementia_Rating</th>\n",
       "      <td>373.0</td>\n",
       "      <td>0.290885</td>\n",
       "      <td>0.374557</td>\n",
       "      <td>0.000</td>\n",
       "      <td>0.000</td>\n",
       "      <td>0.000</td>\n",
       "      <td>0.500</td>\n",
       "      <td>2.000</td>\n",
       "    </tr>\n",
       "    <tr>\n",
       "      <th>Estimated_total_intracranial_volume</th>\n",
       "      <td>373.0</td>\n",
       "      <td>1488.128686</td>\n",
       "      <td>176.139286</td>\n",
       "      <td>1106.000</td>\n",
       "      <td>1357.000</td>\n",
       "      <td>1470.000</td>\n",
       "      <td>1597.000</td>\n",
       "      <td>2004.000</td>\n",
       "    </tr>\n",
       "    <tr>\n",
       "      <th>Normalized_whole_brain_volume</th>\n",
       "      <td>373.0</td>\n",
       "      <td>0.729568</td>\n",
       "      <td>0.037135</td>\n",
       "      <td>0.644</td>\n",
       "      <td>0.700</td>\n",
       "      <td>0.729</td>\n",
       "      <td>0.756</td>\n",
       "      <td>0.837</td>\n",
       "    </tr>\n",
       "    <tr>\n",
       "      <th>Atlas_scaling_factor</th>\n",
       "      <td>373.0</td>\n",
       "      <td>1.195461</td>\n",
       "      <td>0.138092</td>\n",
       "      <td>0.876</td>\n",
       "      <td>1.099</td>\n",
       "      <td>1.194</td>\n",
       "      <td>1.293</td>\n",
       "      <td>1.587</td>\n",
       "    </tr>\n",
       "  </tbody>\n",
       "</table>\n",
       "</div>"
      ],
      "text/plain": [
       "                                     count         mean         std       min  \\\n",
       "Visit                                373.0     1.882038    0.922843     1.000   \n",
       "MR_Delay                             373.0   595.104558  635.485118     0.000   \n",
       "Age                                  373.0    77.013405    7.640957    60.000   \n",
       "Years_of_Edu                         373.0    14.597855    2.876339     6.000   \n",
       "Socioeconomic_Status                 354.0     2.460452    1.134005     1.000   \n",
       "Mini_Mental_State_Exam               371.0    27.342318    3.683244     4.000   \n",
       "Clinical_Dementia_Rating             373.0     0.290885    0.374557     0.000   \n",
       "Estimated_total_intracranial_volume  373.0  1488.128686  176.139286  1106.000   \n",
       "Normalized_whole_brain_volume        373.0     0.729568    0.037135     0.644   \n",
       "Atlas_scaling_factor                 373.0     1.195461    0.138092     0.876   \n",
       "\n",
       "                                          25%       50%       75%       max  \n",
       "Visit                                   1.000     2.000     2.000     5.000  \n",
       "MR_Delay                                0.000   552.000   873.000  2639.000  \n",
       "Age                                    71.000    77.000    82.000    98.000  \n",
       "Years_of_Edu                           12.000    15.000    16.000    23.000  \n",
       "Socioeconomic_Status                    2.000     2.000     3.000     5.000  \n",
       "Mini_Mental_State_Exam                 27.000    29.000    30.000    30.000  \n",
       "Clinical_Dementia_Rating                0.000     0.000     0.500     2.000  \n",
       "Estimated_total_intracranial_volume  1357.000  1470.000  1597.000  2004.000  \n",
       "Normalized_whole_brain_volume           0.700     0.729     0.756     0.837  \n",
       "Atlas_scaling_factor                    1.099     1.194     1.293     1.587  "
      ]
     },
     "execution_count": 6,
     "metadata": {},
     "output_type": "execute_result"
    }
   ],
   "source": [
    "df.describe().T # Statistical Description"
   ]
  },
  {
   "cell_type": "code",
   "execution_count": 7,
   "id": "8f54d6c7",
   "metadata": {
    "execution": {
     "iopub.execute_input": "2022-02-16T23:09:32.002378Z",
     "iopub.status.busy": "2022-02-16T23:09:32.001670Z",
     "iopub.status.idle": "2022-02-16T23:09:32.012786Z",
     "shell.execute_reply": "2022-02-16T23:09:32.012133Z",
     "shell.execute_reply.started": "2022-02-16T21:56:10.929695Z"
    },
    "papermill": {
     "duration": 0.048229,
     "end_time": "2022-02-16T23:09:32.012954",
     "exception": false,
     "start_time": "2022-02-16T23:09:31.964725",
     "status": "completed"
    },
    "tags": []
   },
   "outputs": [
    {
     "data": {
      "text/plain": [
       "Subject ID                             150\n",
       "MRI ID                                 373\n",
       "Group                                    3\n",
       "Visit                                    5\n",
       "MR_Delay                               201\n",
       "Gender                                   2\n",
       "Handedness                               1\n",
       "Age                                     39\n",
       "Years_of_Edu                            12\n",
       "Socioeconomic_Status                     5\n",
       "Mini_Mental_State_Exam                  18\n",
       "Clinical_Dementia_Rating                 4\n",
       "Estimated_total_intracranial_volume    286\n",
       "Normalized_whole_brain_volume          136\n",
       "Atlas_scaling_factor                   265\n",
       "dtype: int64"
      ]
     },
     "execution_count": 7,
     "metadata": {},
     "output_type": "execute_result"
    }
   ],
   "source": [
    "df.nunique()"
   ]
  },
  {
   "cell_type": "markdown",
   "id": "63ff4ddb",
   "metadata": {
    "execution": {
     "iopub.execute_input": "2022-02-16T21:36:25.624083Z",
     "iopub.status.busy": "2022-02-16T21:36:25.623833Z",
     "iopub.status.idle": "2022-02-16T21:36:25.629001Z",
     "shell.execute_reply": "2022-02-16T21:36:25.628181Z",
     "shell.execute_reply.started": "2022-02-16T21:36:25.624058Z"
    },
    "papermill": {
     "duration": 0.034577,
     "end_time": "2022-02-16T23:09:32.080396",
     "exception": false,
     "start_time": "2022-02-16T23:09:32.045819",
     "status": "completed"
    },
    "tags": []
   },
   "source": [
    "Count of unique values in each column"
   ]
  },
  {
   "cell_type": "code",
   "execution_count": 8,
   "id": "ff7aa368",
   "metadata": {
    "execution": {
     "iopub.execute_input": "2022-02-16T23:09:32.156042Z",
     "iopub.status.busy": "2022-02-16T23:09:32.154938Z",
     "iopub.status.idle": "2022-02-16T23:09:32.157219Z",
     "shell.execute_reply": "2022-02-16T23:09:32.156701Z",
     "shell.execute_reply.started": "2022-02-16T21:36:36.791541Z"
    },
    "papermill": {
     "duration": 0.042539,
     "end_time": "2022-02-16T23:09:32.157367",
     "exception": false,
     "start_time": "2022-02-16T23:09:32.114828",
     "status": "completed"
    },
    "tags": []
   },
   "outputs": [],
   "source": [
    "# df.drop('Hand', axis=1, inplace=True)"
   ]
  },
  {
   "cell_type": "code",
   "execution_count": 9,
   "id": "4b4d93d6",
   "metadata": {
    "execution": {
     "iopub.execute_input": "2022-02-16T23:09:32.235220Z",
     "iopub.status.busy": "2022-02-16T23:09:32.234076Z",
     "iopub.status.idle": "2022-02-16T23:09:33.476456Z",
     "shell.execute_reply": "2022-02-16T23:09:33.475818Z",
     "shell.execute_reply.started": "2022-02-16T22:01:33.725846Z"
    },
    "papermill": {
     "duration": 1.284536,
     "end_time": "2022-02-16T23:09:33.476610",
     "exception": false,
     "start_time": "2022-02-16T23:09:32.192074",
     "status": "completed"
    },
    "tags": []
   },
   "outputs": [
    {
     "data": {
      "text/plain": [
       "<AxesSubplot:xlabel='Atlas_scaling_factor', ylabel='Count'>"
      ]
     },
     "execution_count": 9,
     "metadata": {},
     "output_type": "execute_result"
    },
    {
     "data": {
      "image/png": "[encoded data removed]",
      "text/plain": [
       "<Figure size 1008x720 with 5 Axes>"
      ]
     },
     "metadata": {},
     "output_type": "display_data"
    }
   ],
   "source": [
    "# Histogram Distribution for continuous variables\n",
    "\n",
    "plt.figure(figsize=(14,10))\n",
    "sns.set_style(style='whitegrid')\n",
    "plt.subplot(2,3,1)\n",
    "sns.histplot(x='Age',data=df)\n",
    "plt.subplot(2,3,2)\n",
    "sns.histplot(x='Mini_Mental_State_Exam',data=df)\n",
    "plt.subplot(2,3,3)\n",
    "sns.histplot(x='Estimated_total_intracranial_volume',data=df)\n",
    "plt.subplot(2,3,4)\n",
    "sns.histplot(x='Normalized_whole_brain_volume',data=df)\n",
    "plt.subplot(2,3,5)\n",
    "sns.histplot(x='Atlas_scaling_factor',data=df)"
   ]
  },
  {
   "cell_type": "markdown",
   "id": "9491f761",
   "metadata": {
    "execution": {
     "iopub.execute_input": "2022-02-16T22:02:49.795134Z",
     "iopub.status.busy": "2022-02-16T22:02:49.794761Z",
     "iopub.status.idle": "2022-02-16T22:02:49.800855Z",
     "shell.execute_reply": "2022-02-16T22:02:49.799820Z",
     "shell.execute_reply.started": "2022-02-16T22:02:49.795094Z"
    },
    "papermill": {
     "duration": 0.034024,
     "end_time": "2022-02-16T23:09:33.545170",
     "exception": false,
     "start_time": "2022-02-16T23:09:33.511146",
     "status": "completed"
    },
    "tags": []
   },
   "source": [
    "The five continuous-numerical variables seem to follow normal distribution except the Mini_Mental_State_Exam column"
   ]
  },
  {
   "cell_type": "code",
   "execution_count": 10,
   "id": "b7f4ff5f",
   "metadata": {
    "execution": {
     "iopub.execute_input": "2022-02-16T23:09:33.617323Z",
     "iopub.status.busy": "2022-02-16T23:09:33.616623Z",
     "iopub.status.idle": "2022-02-16T23:09:34.451648Z",
     "shell.execute_reply": "2022-02-16T23:09:34.452225Z",
     "shell.execute_reply.started": "2022-02-16T22:03:05.919313Z"
    },
    "papermill": {
     "duration": 0.873139,
     "end_time": "2022-02-16T23:09:34.452434",
     "exception": false,
     "start_time": "2022-02-16T23:09:33.579295",
     "status": "completed"
    },
    "tags": []
   },
   "outputs": [
    {
     "data": {
      "text/plain": [
       "<AxesSubplot:xlabel='Atlas_scaling_factor'>"
      ]
     },
     "execution_count": 10,
     "metadata": {},
     "output_type": "execute_result"
    },
    {
     "data": {
      "image/png": "[encoded data removed]",
      "text/plain": [
       "<Figure size 1008x720 with 5 Axes>"
      ]
     },
     "metadata": {},
     "output_type": "display_data"
    }
   ],
   "source": [
    "# Boxplot Distribution for continuous variables\n",
    "\n",
    "plt.figure(figsize=(14,10))\n",
    "sns.set_style(style='whitegrid')\n",
    "plt.subplot(2,3,1)\n",
    "sns.boxplot(x='Age',data=df)\n",
    "plt.subplot(2,3,2)\n",
    "sns.boxplot(x='Mini_Mental_State_Exam',data=df)\n",
    "plt.subplot(2,3,3)\n",
    "sns.boxplot(x='Estimated_total_intracranial_volume',data=df)\n",
    "plt.subplot(2,3,4)\n",
    "sns.boxplot(x='Normalized_whole_brain_volume',data=df)\n",
    "plt.subplot(2,3,5)\n",
    "sns.boxplot(x='Atlas_scaling_factor',data=df)"
   ]
  },
  {
   "cell_type": "markdown",
   "id": "1f5a2d44",
   "metadata": {
    "execution": {
     "iopub.execute_input": "2022-02-16T22:05:40.668892Z",
     "iopub.status.busy": "2022-02-16T22:05:40.668368Z",
     "iopub.status.idle": "2022-02-16T22:05:40.673637Z",
     "shell.execute_reply": "2022-02-16T22:05:40.672805Z",
     "shell.execute_reply.started": "2022-02-16T22:05:40.668849Z"
    },
    "papermill": {
     "duration": 0.035072,
     "end_time": "2022-02-16T23:09:34.523181",
     "exception": false,
     "start_time": "2022-02-16T23:09:34.488109",
     "status": "completed"
    },
    "tags": []
   },
   "source": [
    "Three of the continuous-numerical variables have a few extreme values (possible outliers) that need to be examined."
   ]
  },
  {
   "cell_type": "code",
   "execution_count": 11,
   "id": "b2104fcb",
   "metadata": {
    "execution": {
     "iopub.execute_input": "2022-02-16T23:09:34.597920Z",
     "iopub.status.busy": "2022-02-16T23:09:34.597243Z",
     "iopub.status.idle": "2022-02-16T23:09:34.609245Z",
     "shell.execute_reply": "2022-02-16T23:09:34.610216Z",
     "shell.execute_reply.started": "2022-02-16T22:10:25.449363Z"
    },
    "papermill": {
     "duration": 0.051985,
     "end_time": "2022-02-16T23:09:34.610524",
     "exception": false,
     "start_time": "2022-02-16T23:09:34.558539",
     "status": "completed"
    },
    "tags": []
   },
   "outputs": [
    {
     "name": "stdout",
     "output_type": "stream",
     "text": [
      "<class 'pandas.core.frame.DataFrame'>\n",
      "RangeIndex: 373 entries, 0 to 372\n",
      "Data columns (total 15 columns):\n",
      " #   Column                               Non-Null Count  Dtype  \n",
      "---  ------                               --------------  -----  \n",
      " 0   Subject ID                           373 non-null    object \n",
      " 1   MRI ID                               373 non-null    object \n",
      " 2   Group                                373 non-null    object \n",
      " 3   Visit                                373 non-null    int64  \n",
      " 4   MR_Delay                             373 non-null    int64  \n",
      " 5   Gender                               373 non-null    object \n",
      " 6   Handedness                           373 non-null    object \n",
      " 7   Age                                  373 non-null    int64  \n",
      " 8   Years_of_Edu                         373 non-null    int64  \n",
      " 9   Socioeconomic_Status                 354 non-null    float64\n",
      " 10  Mini_Mental_State_Exam               371 non-null    float64\n",
      " 11  Clinical_Dementia_Rating             373 non-null    float64\n",
      " 12  Estimated_total_intracranial_volume  373 non-null    int64  \n",
      " 13  Normalized_whole_brain_volume        373 non-null    float64\n",
      " 14  Atlas_scaling_factor                 373 non-null    float64\n",
      "dtypes: float64(5), int64(5), object(5)\n",
      "memory usage: 43.8+ KB\n"
     ]
    }
   ],
   "source": [
    "df.info()"
   ]
  },
  {
   "cell_type": "code",
   "execution_count": 12,
   "id": "1bb9e9c8",
   "metadata": {
    "execution": {
     "iopub.execute_input": "2022-02-16T23:09:34.687344Z",
     "iopub.status.busy": "2022-02-16T23:09:34.685322Z",
     "iopub.status.idle": "2022-02-16T23:09:34.690038Z",
     "shell.execute_reply": "2022-02-16T23:09:34.690613Z",
     "shell.execute_reply.started": "2022-02-16T22:25:27.801930Z"
    },
    "papermill": {
     "duration": 0.043694,
     "end_time": "2022-02-16T23:09:34.690776",
     "exception": false,
     "start_time": "2022-02-16T23:09:34.647082",
     "status": "completed"
    },
    "tags": []
   },
   "outputs": [
    {
     "data": {
      "text/plain": [
       "dtype('int64')"
      ]
     },
     "execution_count": 12,
     "metadata": {},
     "output_type": "execute_result"
    }
   ],
   "source": [
    "df.Years_of_Edu.dtype"
   ]
  },
  {
   "cell_type": "code",
   "execution_count": 13,
   "id": "3902b3f8",
   "metadata": {
    "execution": {
     "iopub.execute_input": "2022-02-16T23:09:34.765730Z",
     "iopub.status.busy": "2022-02-16T23:09:34.765103Z",
     "iopub.status.idle": "2022-02-16T23:09:35.397129Z",
     "shell.execute_reply": "2022-02-16T23:09:35.396591Z",
     "shell.execute_reply.started": "2022-02-16T22:41:30.748565Z"
    },
    "papermill": {
     "duration": 0.670264,
     "end_time": "2022-02-16T23:09:35.397265",
     "exception": false,
     "start_time": "2022-02-16T23:09:34.727001",
     "status": "completed"
    },
    "tags": []
   },
   "outputs": [
    {
     "name": "stdout",
     "output_type": "stream",
     "text": [
      "Nondemented    190\n",
      "Demented       146\n",
      "Converted       37\n",
      "Name: Group, dtype: int64\n"
     ]
    },
    {
     "data": {
      "image/png": "[encoded data removed]",
      "text/plain": [
       "<Figure size 432x288 with 1 Axes>"
      ]
     },
     "metadata": {},
     "output_type": "display_data"
    },
    {
     "name": "stdout",
     "output_type": "stream",
     "text": [
      "F    213\n",
      "M    160\n",
      "Name: Gender, dtype: int64\n"
     ]
    },
    {
     "data": {
      "image/png": "[encoded data removed]",
      "text/plain": [
       "<Figure size 432x288 with 1 Axes>"
      ]
     },
     "metadata": {},
     "output_type": "display_data"
    },
    {
     "name": "stdout",
     "output_type": "stream",
     "text": [
      "R    373\n",
      "Name: Handedness, dtype: int64\n"
     ]
    },
    {
     "data": {
      "image/png": "[encoded data removed]",
      "text/plain": [
       "<Figure size 432x288 with 1 Axes>"
      ]
     },
     "metadata": {},
     "output_type": "display_data"
    }
   ],
   "source": [
    "cat_feat =[column for column in df.columns if df[column].dtypes=='O']\n",
    "cat_feat.remove('Subject ID')\n",
    "cat_feat.remove('MRI ID')\n",
    "for feat in cat_feat:\n",
    "    print(df[feat].value_counts())\n",
    "    sns.countplot(df[feat])\n",
    "    plt.show()"
   ]
  },
  {
   "cell_type": "markdown",
   "id": "26993f4e",
   "metadata": {
    "execution": {
     "iopub.execute_input": "2022-02-16T22:42:15.578315Z",
     "iopub.status.busy": "2022-02-16T22:42:15.577986Z",
     "iopub.status.idle": "2022-02-16T22:42:15.584736Z",
     "shell.execute_reply": "2022-02-16T22:42:15.583714Z",
     "shell.execute_reply.started": "2022-02-16T22:42:15.578278Z"
    },
    "papermill": {
     "duration": 0.039361,
     "end_time": "2022-02-16T23:09:35.477110",
     "exception": false,
     "start_time": "2022-02-16T23:09:35.437749",
     "status": "completed"
    },
    "tags": []
   },
   "source": [
    "Group has 3 unique values\n",
    "\n",
    "Gender has 2 unique values\n",
    "\n",
    "All observations are right-handed, the column needs to be removed (one unique value)."
   ]
  },
  {
   "cell_type": "code",
   "execution_count": 14,
   "id": "645f9afa",
   "metadata": {
    "execution": {
     "iopub.execute_input": "2022-02-16T23:09:35.561447Z",
     "iopub.status.busy": "2022-02-16T23:09:35.560822Z",
     "iopub.status.idle": "2022-02-16T23:09:35.567398Z",
     "shell.execute_reply": "2022-02-16T23:09:35.568058Z",
     "shell.execute_reply.started": "2022-02-16T22:51:19.961356Z"
    },
    "papermill": {
     "duration": 0.051707,
     "end_time": "2022-02-16T23:09:35.568218",
     "exception": false,
     "start_time": "2022-02-16T23:09:35.516511",
     "status": "completed"
    },
    "tags": []
   },
   "outputs": [
    {
     "data": {
      "text/plain": [
       "Subject ID                             150\n",
       "MRI ID                                 373\n",
       "Group                                    3\n",
       "Visit                                    5\n",
       "MR_Delay                               201\n",
       "Gender                                   2\n",
       "Handedness                               1\n",
       "Age                                     39\n",
       "Years_of_Edu                            12\n",
       "Socioeconomic_Status                     5\n",
       "Mini_Mental_State_Exam                  18\n",
       "Clinical_Dementia_Rating                 4\n",
       "Estimated_total_intracranial_volume    286\n",
       "Normalized_whole_brain_volume          136\n",
       "Atlas_scaling_factor                   265\n",
       "dtype: int64"
      ]
     },
     "execution_count": 14,
     "metadata": {},
     "output_type": "execute_result"
    }
   ],
   "source": [
    "df.nunique()"
   ]
  },
  {
   "cell_type": "code",
   "execution_count": 15,
   "id": "7dd0b515",
   "metadata": {
    "execution": {
     "iopub.execute_input": "2022-02-16T23:09:35.658617Z",
     "iopub.status.busy": "2022-02-16T23:09:35.657162Z",
     "iopub.status.idle": "2022-02-16T23:09:36.485816Z",
     "shell.execute_reply": "2022-02-16T23:09:36.485232Z",
     "shell.execute_reply.started": "2022-02-16T22:53:06.712765Z"
    },
    "papermill": {
     "duration": 0.878046,
     "end_time": "2022-02-16T23:09:36.485955",
     "exception": false,
     "start_time": "2022-02-16T23:09:35.607909",
     "status": "completed"
    },
    "tags": []
   },
   "outputs": [
    {
     "name": "stdout",
     "output_type": "stream",
     "text": [
      "12    103\n",
      "16     81\n",
      "18     64\n",
      "14     33\n",
      "13     27\n",
      "15     17\n",
      "20     13\n",
      "11     11\n",
      "8       9\n",
      "17      9\n",
      "6       3\n",
      "23      3\n",
      "Name: Years_of_Edu, dtype: int64\n"
     ]
    },
    {
     "data": {
      "image/png": "[encoded data removed]",
      "text/plain": [
       "<Figure size 432x288 with 1 Axes>"
      ]
     },
     "metadata": {},
     "output_type": "display_data"
    },
    {
     "name": "stdout",
     "output_type": "stream",
     "text": [
      "2.0    103\n",
      "1.0     88\n",
      "3.0     82\n",
      "4.0     74\n",
      "5.0      7\n",
      "Name: Socioeconomic_Status, dtype: int64\n"
     ]
    },
    {
     "data": {
      "image/png": "[encoded data removed]",
      "text/plain": [
       "<Figure size 432x288 with 1 Axes>"
      ]
     },
     "metadata": {},
     "output_type": "display_data"
    },
    {
     "name": "stdout",
     "output_type": "stream",
     "text": [
      "0.0    206\n",
      "0.5    123\n",
      "1.0     41\n",
      "2.0      3\n",
      "Name: Clinical_Dementia_Rating, dtype: int64\n"
     ]
    },
    {
     "data": {
      "image/png": "[encoded data removed]",
      "text/plain": [
       "<Figure size 432x288 with 1 Axes>"
      ]
     },
     "metadata": {},
     "output_type": "display_data"
    },
    {
     "name": "stdout",
     "output_type": "stream",
     "text": [
      "1    150\n",
      "2    144\n",
      "3     58\n",
      "4     15\n",
      "5      6\n",
      "Name: Visit, dtype: int64\n"
     ]
    },
    {
     "data": {
      "image/png": "[encoded data removed]",
      "text/plain": [
       "<Figure size 432x288 with 1 Axes>"
      ]
     },
     "metadata": {},
     "output_type": "display_data"
    }
   ],
   "source": [
    "ordinal =['Years_of_Edu', 'Socioeconomic_Status', 'Clinical_Dementia_Rating', 'Visit']\n",
    "for feat in ordinal:\n",
    "    print(df[feat].value_counts())\n",
    "    sns.countplot(df[feat])\n",
    "    plt.show()"
   ]
  },
  {
   "cell_type": "markdown",
   "id": "affd5bac",
   "metadata": {
    "execution": {
     "iopub.execute_input": "2022-02-16T22:54:15.527732Z",
     "iopub.status.busy": "2022-02-16T22:54:15.527054Z",
     "iopub.status.idle": "2022-02-16T22:54:15.531944Z",
     "shell.execute_reply": "2022-02-16T22:54:15.531179Z",
     "shell.execute_reply.started": "2022-02-16T22:54:15.527676Z"
    },
    "papermill": {
     "duration": 0.045045,
     "end_time": "2022-02-16T23:09:36.576506",
     "exception": false,
     "start_time": "2022-02-16T23:09:36.531461",
     "status": "completed"
    },
    "tags": []
   },
   "source": [
    "## Bi/Multi-variate Analysis"
   ]
  },
  {
   "cell_type": "code",
   "execution_count": 16,
   "id": "44d6fded",
   "metadata": {
    "execution": {
     "iopub.execute_input": "2022-02-16T23:09:36.669371Z",
     "iopub.status.busy": "2022-02-16T23:09:36.668751Z",
     "iopub.status.idle": "2022-02-16T23:09:36.972843Z",
     "shell.execute_reply": "2022-02-16T23:09:36.973850Z",
     "shell.execute_reply.started": "2022-02-16T22:54:55.895745Z"
    },
    "papermill": {
     "duration": 0.352471,
     "end_time": "2022-02-16T23:09:36.974183",
     "exception": false,
     "start_time": "2022-02-16T23:09:36.621712",
     "status": "completed"
    },
    "tags": []
   },
   "outputs": [
    {
     "data": {
      "text/plain": [
       "<AxesSubplot:xlabel='Group', ylabel='MR_Delay'>"
      ]
     },
     "execution_count": 16,
     "metadata": {},
     "output_type": "execute_result"
    },
    {
     "data": {
      "image/png": "[encoded data removed]",
      "text/plain": [
       "<Figure size 432x288 with 1 Axes>"
      ]
     },
     "metadata": {},
     "output_type": "display_data"
    }
   ],
   "source": [
    "sns.barplot(df.Group, df.MR_Delay)"
   ]
  },
  {
   "cell_type": "markdown",
   "id": "c754d9fb",
   "metadata": {
    "papermill": {
     "duration": 0.046461,
     "end_time": "2022-02-16T23:09:37.068938",
     "exception": false,
     "start_time": "2022-02-16T23:09:37.022477",
     "status": "completed"
    },
    "tags": []
   },
   "source": [
    "Converted has the highest MR delay, then nondemented, follow by demented"
   ]
  },
  {
   "cell_type": "code",
   "execution_count": 17,
   "id": "dda5267f",
   "metadata": {
    "execution": {
     "iopub.execute_input": "2022-02-16T23:09:37.171823Z",
     "iopub.status.busy": "2022-02-16T23:09:37.170801Z",
     "iopub.status.idle": "2022-02-16T23:09:37.582350Z",
     "shell.execute_reply": "2022-02-16T23:09:37.582823Z",
     "shell.execute_reply.started": "2022-02-16T22:57:36.716752Z"
    },
    "papermill": {
     "duration": 0.467262,
     "end_time": "2022-02-16T23:09:37.582994",
     "exception": false,
     "start_time": "2022-02-16T23:09:37.115732",
     "status": "completed"
    },
    "tags": []
   },
   "outputs": [
    {
     "data": {
      "image/png": "[encoded data removed]",
      "text/plain": [
       "<Figure size 432x288 with 1 Axes>"
      ]
     },
     "metadata": {},
     "output_type": "display_data"
    }
   ],
   "source": [
    "sns.countplot(df.Years_of_Edu, hue=df.Group);"
   ]
  },
  {
   "cell_type": "code",
   "execution_count": 18,
   "id": "5ac62aaf",
   "metadata": {
    "execution": {
     "iopub.execute_input": "2022-02-16T23:09:37.679989Z",
     "iopub.status.busy": "2022-02-16T23:09:37.679041Z",
     "iopub.status.idle": "2022-02-16T23:09:37.966599Z",
     "shell.execute_reply": "2022-02-16T23:09:37.966012Z",
     "shell.execute_reply.started": "2022-02-16T23:02:19.940377Z"
    },
    "papermill": {
     "duration": 0.337194,
     "end_time": "2022-02-16T23:09:37.966762",
     "exception": false,
     "start_time": "2022-02-16T23:09:37.629568",
     "status": "completed"
    },
    "tags": []
   },
   "outputs": [
    {
     "data": {
      "image/png": "[encoded data removed]",
      "text/plain": [
       "<Figure size 432x288 with 1 Axes>"
      ]
     },
     "metadata": {},
     "output_type": "display_data"
    }
   ],
   "source": [
    "sns.countplot(df.Visit, hue=df.Group);"
   ]
  },
  {
   "cell_type": "code",
   "execution_count": 19,
   "id": "a6047d7b",
   "metadata": {
    "execution": {
     "iopub.execute_input": "2022-02-16T23:09:38.071753Z",
     "iopub.status.busy": "2022-02-16T23:09:38.071057Z",
     "iopub.status.idle": "2022-02-16T23:09:38.366728Z",
     "shell.execute_reply": "2022-02-16T23:09:38.366155Z",
     "shell.execute_reply.started": "2022-02-16T23:02:45.845135Z"
    },
    "papermill": {
     "duration": 0.35064,
     "end_time": "2022-02-16T23:09:38.366872",
     "exception": false,
     "start_time": "2022-02-16T23:09:38.016232",
     "status": "completed"
    },
    "tags": []
   },
   "outputs": [
    {
     "data": {
      "image/png": "[encoded data removed]",
      "text/plain": [
       "<Figure size 432x288 with 1 Axes>"
      ]
     },
     "metadata": {},
     "output_type": "display_data"
    }
   ],
   "source": [
    "sns.countplot(df.Socioeconomic_Status, hue=df.Group);"
   ]
  },
  {
   "cell_type": "code",
   "execution_count": 20,
   "id": "df391bb6",
   "metadata": {
    "execution": {
     "iopub.execute_input": "2022-02-16T23:09:38.467828Z",
     "iopub.status.busy": "2022-02-16T23:09:38.467098Z",
     "iopub.status.idle": "2022-02-16T23:09:38.741748Z",
     "shell.execute_reply": "2022-02-16T23:09:38.742241Z",
     "shell.execute_reply.started": "2022-02-16T23:02:56.972104Z"
    },
    "papermill": {
     "duration": 0.326751,
     "end_time": "2022-02-16T23:09:38.742418",
     "exception": false,
     "start_time": "2022-02-16T23:09:38.415667",
     "status": "completed"
    },
    "tags": []
   },
   "outputs": [
    {
     "data": {
      "image/png": "[encoded data removed]",
      "text/plain": [
       "<Figure size 432x288 with 1 Axes>"
      ]
     },
     "metadata": {},
     "output_type": "display_data"
    }
   ],
   "source": [
    "sns.countplot(df.Clinical_Dementia_Rating, hue=df.Group);"
   ]
  },
  {
   "cell_type": "code",
   "execution_count": 21,
   "id": "90608512",
   "metadata": {
    "execution": {
     "iopub.execute_input": "2022-02-16T23:09:38.846140Z",
     "iopub.status.busy": "2022-02-16T23:09:38.845513Z",
     "iopub.status.idle": "2022-02-16T23:09:39.075328Z",
     "shell.execute_reply": "2022-02-16T23:09:39.074691Z",
     "shell.execute_reply.started": "2022-02-16T23:03:55.533603Z"
    },
    "papermill": {
     "duration": 0.282989,
     "end_time": "2022-02-16T23:09:39.075479",
     "exception": false,
     "start_time": "2022-02-16T23:09:38.792490",
     "status": "completed"
    },
    "tags": []
   },
   "outputs": [
    {
     "data": {
      "image/png": "[encoded data removed]",
      "text/plain": [
       "<Figure size 432x288 with 1 Axes>"
      ]
     },
     "metadata": {},
     "output_type": "display_data"
    }
   ],
   "source": [
    "sns.countplot(df.Gender, hue=df.Group);"
   ]
  },
  {
   "cell_type": "code",
   "execution_count": 22,
   "id": "8d6ce417",
   "metadata": {
    "execution": {
     "iopub.execute_input": "2022-02-16T23:09:39.202421Z",
     "iopub.status.busy": "2022-02-16T23:09:39.201359Z",
     "iopub.status.idle": "2022-02-16T23:09:39.620654Z",
     "shell.execute_reply": "2022-02-16T23:09:39.620127Z",
     "shell.execute_reply.started": "2022-02-16T23:01:45.096846Z"
    },
    "papermill": {
     "duration": 0.494248,
     "end_time": "2022-02-16T23:09:39.620788",
     "exception": false,
     "start_time": "2022-02-16T23:09:39.126540",
     "status": "completed"
    },
    "tags": []
   },
   "outputs": [
    {
     "data": {
      "image/png": "[encoded data removed]",
      "text/plain": [
       "<Figure size 432x288 with 1 Axes>"
      ]
     },
     "metadata": {},
     "output_type": "display_data"
    }
   ],
   "source": [
    "sns.scatterplot(df.Age, df.MR_Delay, hue=df.Group);"
   ]
  },
  {
   "cell_type": "code",
   "execution_count": null,
   "id": "9258cb3f",
   "metadata": {
    "papermill": {
     "duration": 0.051938,
     "end_time": "2022-02-16T23:09:39.725257",
     "exception": false,
     "start_time": "2022-02-16T23:09:39.673319",
     "status": "completed"
    },
    "tags": []
   },
   "outputs": [],
   "source": []
  }
 ],
 "metadata": {
  "kernelspec": {
   "display_name": "Python 3",
   "language": "python",
   "name": "python3"
  },
  "language_info": {
   "codemirror_mode": {
    "name": "ipython",
    "version": 3
   },
   "file_extension": ".py",
   "mimetype": "text/x-python",
   "name": "python",
   "nbconvert_exporter": "python",
   "pygments_lexer": "ipython3",
   "version": "3.7.12"
  },
  "papermill": {
   "default_parameters": {},
   "duration": 20.770419,
   "end_time": "2022-02-16T23:09:40.487593",
   "environment_variables": {},
   "exception": null,
   "input_path": "__notebook__.ipynb",
   "output_path": "__notebook__.ipynb",
   "parameters": {},
   "start_time": "2022-02-16T23:09:19.717174",
   "version": "2.3.3"
  }
 },
 "nbformat": 4,
 "nbformat_minor": 5
}
